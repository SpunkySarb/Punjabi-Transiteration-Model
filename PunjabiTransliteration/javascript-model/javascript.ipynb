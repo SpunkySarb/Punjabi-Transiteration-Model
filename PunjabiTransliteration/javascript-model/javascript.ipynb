{
 "cells": [
  {
   "cell_type": "markdown",
   "metadata": {},
   "source": [
    "## Making Punjabi Transliteration Model for Smooth JavaScript Deployment"
   ]
  },
  {
   "cell_type": "code",
   "execution_count": 184,
   "metadata": {},
   "outputs": [],
   "source": [
    "import tensorflow as tf\n",
    "import json\n",
    "import pandas as pd\n",
    "import keras\n"
   ]
  },
  {
   "cell_type": "code",
   "execution_count": 185,
   "metadata": {},
   "outputs": [],
   "source": [
    "def read_json_to_dataframe(file_path):\n",
    "    \"\"\"\n",
    "    Reads data from a JSON file and returns a pandas DataFrame.\n",
    "\n",
    "    Args:\n",
    "        file_path (str): Path to the JSON file.\n",
    "\n",
    "    Returns:\n",
    "        pd.DataFrame: DataFrame containing the JSON data.\n",
    "    \"\"\"\n",
    "    try:\n",
    "        with open(file_path, \"r\") as json_file:\n",
    "            data = json.load(json_file)\n",
    "        df = pd.DataFrame(data)\n",
    "        return df\n",
    "    except FileNotFoundError:\n",
    "        print(f\"Error: File '{file_path}' not found.\")\n",
    "        return None\n",
    "    except json.JSONDecodeError:\n",
    "        print(f\"Error: Invalid JSON data in '{file_path}'.\")\n",
    "        return None\n"
   ]
  },
  {
   "cell_type": "code",
   "execution_count": 186,
   "metadata": {},
   "outputs": [],
   "source": [
    "\n",
    "train_df = read_json_to_dataframe('pan_train.json')\n",
    "val_df = read_json_to_dataframe('pan_valid.json')\n",
    "test_df = read_json_to_dataframe('pan_test.json')\n"
   ]
  },
  {
   "cell_type": "code",
   "execution_count": 187,
   "metadata": {},
   "outputs": [
    {
     "data": {
      "text/html": [
       "<div>\n",
       "<style scoped>\n",
       "    .dataframe tbody tr th:only-of-type {\n",
       "        vertical-align: middle;\n",
       "    }\n",
       "\n",
       "    .dataframe tbody tr th {\n",
       "        vertical-align: top;\n",
       "    }\n",
       "\n",
       "    .dataframe thead th {\n",
       "        text-align: right;\n",
       "    }\n",
       "</style>\n",
       "<table border=\"1\" class=\"dataframe\">\n",
       "  <thead>\n",
       "    <tr style=\"text-align: right;\">\n",
       "      <th></th>\n",
       "      <th>unique_identifier</th>\n",
       "      <th>native word</th>\n",
       "      <th>english word</th>\n",
       "      <th>source</th>\n",
       "      <th>score</th>\n",
       "    </tr>\n",
       "  </thead>\n",
       "  <tbody>\n",
       "    <tr>\n",
       "      <th>0</th>\n",
       "      <td>pan1</td>\n",
       "      <td>ਅੱਜਕੱਲ੍ਹ</td>\n",
       "      <td>ajjkallh</td>\n",
       "      <td>Dakshina</td>\n",
       "      <td>NaN</td>\n",
       "    </tr>\n",
       "    <tr>\n",
       "      <th>1</th>\n",
       "      <td>pan2</td>\n",
       "      <td>ਕੁੱਕਰੀ</td>\n",
       "      <td>kookerii</td>\n",
       "      <td>Dakshina</td>\n",
       "      <td>NaN</td>\n",
       "    </tr>\n",
       "    <tr>\n",
       "      <th>2</th>\n",
       "      <td>pan3</td>\n",
       "      <td>ਧਮਨੀਆਂ</td>\n",
       "      <td>dhamniyan</td>\n",
       "      <td>Dakshina</td>\n",
       "      <td>NaN</td>\n",
       "    </tr>\n",
       "    <tr>\n",
       "      <th>3</th>\n",
       "      <td>pan4</td>\n",
       "      <td>ਖ਼ੁਦਗ਼ਰਜ਼ੀ</td>\n",
       "      <td>khudgarzi</td>\n",
       "      <td>Dakshina</td>\n",
       "      <td>NaN</td>\n",
       "    </tr>\n",
       "    <tr>\n",
       "      <th>4</th>\n",
       "      <td>pan5</td>\n",
       "      <td>ਅਗਲੇਰਾ</td>\n",
       "      <td>aglera</td>\n",
       "      <td>Dakshina</td>\n",
       "      <td>NaN</td>\n",
       "    </tr>\n",
       "  </tbody>\n",
       "</table>\n",
       "</div>"
      ],
      "text/plain": [
       "  unique_identifier native word english word    source  score\n",
       "0              pan1    ਅੱਜਕੱਲ੍ਹ     ajjkallh  Dakshina    NaN\n",
       "1              pan2      ਕੁੱਕਰੀ     kookerii  Dakshina    NaN\n",
       "2              pan3      ਧਮਨੀਆਂ    dhamniyan  Dakshina    NaN\n",
       "3              pan4  ਖ਼ੁਦਗ਼ਰਜ਼ੀ    khudgarzi  Dakshina    NaN\n",
       "4              pan5      ਅਗਲੇਰਾ       aglera  Dakshina    NaN"
      ]
     },
     "execution_count": 187,
     "metadata": {},
     "output_type": "execute_result"
    }
   ],
   "source": [
    "train_df.head()"
   ]
  },
  {
   "cell_type": "code",
   "execution_count": 188,
   "metadata": {},
   "outputs": [
    {
     "data": {
      "text/html": [
       "<div>\n",
       "<style scoped>\n",
       "    .dataframe tbody tr th:only-of-type {\n",
       "        vertical-align: middle;\n",
       "    }\n",
       "\n",
       "    .dataframe tbody tr th {\n",
       "        vertical-align: top;\n",
       "    }\n",
       "\n",
       "    .dataframe thead th {\n",
       "        text-align: right;\n",
       "    }\n",
       "</style>\n",
       "<table border=\"1\" class=\"dataframe\">\n",
       "  <thead>\n",
       "    <tr style=\"text-align: right;\">\n",
       "      <th></th>\n",
       "      <th>unique_identifier</th>\n",
       "      <th>native word</th>\n",
       "      <th>english word</th>\n",
       "      <th>source</th>\n",
       "    </tr>\n",
       "  </thead>\n",
       "  <tbody>\n",
       "    <tr>\n",
       "      <th>0</th>\n",
       "      <td>pan1</td>\n",
       "      <td>ਪਲਟਾਉਂਦਿਆਂ</td>\n",
       "      <td>paltaundiyaan</td>\n",
       "      <td>AK-Freq</td>\n",
       "    </tr>\n",
       "    <tr>\n",
       "      <th>1</th>\n",
       "      <td>pan2</td>\n",
       "      <td>ਮੈਸਲੀਲੀਆ</td>\n",
       "      <td>messleeleeya</td>\n",
       "      <td>AK-Freq</td>\n",
       "    </tr>\n",
       "    <tr>\n",
       "      <th>2</th>\n",
       "      <td>pan3</td>\n",
       "      <td>ਪ੍ਰਮੋਸਨਾਂ</td>\n",
       "      <td>prmosanaan</td>\n",
       "      <td>AK-Freq</td>\n",
       "    </tr>\n",
       "    <tr>\n",
       "      <th>3</th>\n",
       "      <td>pan4</td>\n",
       "      <td>ਪੱੁਜੇ</td>\n",
       "      <td>pujje</td>\n",
       "      <td>AK-Freq</td>\n",
       "    </tr>\n",
       "    <tr>\n",
       "      <th>4</th>\n",
       "      <td>pan5</td>\n",
       "      <td>ਦਬੜ੍ਹੀਖਾਨਾ</td>\n",
       "      <td>dabadeehkhana</td>\n",
       "      <td>AK-Freq</td>\n",
       "    </tr>\n",
       "  </tbody>\n",
       "</table>\n",
       "</div>"
      ],
      "text/plain": [
       "  unique_identifier native word   english word   source\n",
       "0              pan1  ਪਲਟਾਉਂਦਿਆਂ  paltaundiyaan  AK-Freq\n",
       "1              pan2    ਮੈਸਲੀਲੀਆ   messleeleeya  AK-Freq\n",
       "2              pan3   ਪ੍ਰਮੋਸਨਾਂ     prmosanaan  AK-Freq\n",
       "3              pan4       ਪੱੁਜੇ          pujje  AK-Freq\n",
       "4              pan5  ਦਬੜ੍ਹੀਖਾਨਾ  dabadeehkhana  AK-Freq"
      ]
     },
     "execution_count": 188,
     "metadata": {},
     "output_type": "execute_result"
    }
   ],
   "source": [
    "test_df.head()"
   ]
  },
  {
   "cell_type": "code",
   "execution_count": 189,
   "metadata": {},
   "outputs": [
    {
     "data": {
      "text/html": [
       "<div>\n",
       "<style scoped>\n",
       "    .dataframe tbody tr th:only-of-type {\n",
       "        vertical-align: middle;\n",
       "    }\n",
       "\n",
       "    .dataframe tbody tr th {\n",
       "        vertical-align: top;\n",
       "    }\n",
       "\n",
       "    .dataframe thead th {\n",
       "        text-align: right;\n",
       "    }\n",
       "</style>\n",
       "<table border=\"1\" class=\"dataframe\">\n",
       "  <thead>\n",
       "    <tr style=\"text-align: right;\">\n",
       "      <th></th>\n",
       "      <th>unique_identifier</th>\n",
       "      <th>native word</th>\n",
       "      <th>english word</th>\n",
       "      <th>source</th>\n",
       "      <th>score</th>\n",
       "    </tr>\n",
       "  </thead>\n",
       "  <tbody>\n",
       "    <tr>\n",
       "      <th>0</th>\n",
       "      <td>pan1</td>\n",
       "      <td>ਮਿਸ਼ੇਲੇ</td>\n",
       "      <td>michelle</td>\n",
       "      <td>Wikidata</td>\n",
       "      <td>NaN</td>\n",
       "    </tr>\n",
       "    <tr>\n",
       "      <th>1</th>\n",
       "      <td>pan2</td>\n",
       "      <td>ਵੀਨਸ</td>\n",
       "      <td>venus</td>\n",
       "      <td>Wikidata</td>\n",
       "      <td>NaN</td>\n",
       "    </tr>\n",
       "    <tr>\n",
       "      <th>2</th>\n",
       "      <td>pan3</td>\n",
       "      <td>ਫ਼ਰੀਦ</td>\n",
       "      <td>fareed</td>\n",
       "      <td>Wikidata</td>\n",
       "      <td>NaN</td>\n",
       "    </tr>\n",
       "    <tr>\n",
       "      <th>3</th>\n",
       "      <td>pan4</td>\n",
       "      <td>ਯਾਮਿਨੀ</td>\n",
       "      <td>yamini</td>\n",
       "      <td>Wikidata</td>\n",
       "      <td>NaN</td>\n",
       "    </tr>\n",
       "    <tr>\n",
       "      <th>4</th>\n",
       "      <td>pan5</td>\n",
       "      <td>ਜੇਮਸ</td>\n",
       "      <td>james</td>\n",
       "      <td>Wikidata</td>\n",
       "      <td>NaN</td>\n",
       "    </tr>\n",
       "  </tbody>\n",
       "</table>\n",
       "</div>"
      ],
      "text/plain": [
       "  unique_identifier native word english word    source  score\n",
       "0              pan1     ਮਿਸ਼ੇਲੇ     michelle  Wikidata    NaN\n",
       "1              pan2        ਵੀਨਸ        venus  Wikidata    NaN\n",
       "2              pan3       ਫ਼ਰੀਦ       fareed  Wikidata    NaN\n",
       "3              pan4      ਯਾਮਿਨੀ       yamini  Wikidata    NaN\n",
       "4              pan5        ਜੇਮਸ        james  Wikidata    NaN"
      ]
     },
     "execution_count": 189,
     "metadata": {},
     "output_type": "execute_result"
    }
   ],
   "source": [
    "val_df.head()"
   ]
  },
  {
   "cell_type": "markdown",
   "metadata": {},
   "source": [
    "#### Testing With Character Level Embeddings for both EN and PA"
   ]
  },
  {
   "cell_type": "code",
   "execution_count": 190,
   "metadata": {},
   "outputs": [],
   "source": [
    "def get_X_and_y(dataframe:pd.DataFrame):\n",
    "    X = dataframe[\"english word\"].tolist()\n",
    "    y= dataframe[\"native word\"].tolist()\n",
    "    return (X,y)"
   ]
  },
  {
   "cell_type": "code",
   "execution_count": 191,
   "metadata": {},
   "outputs": [],
   "source": [
    "X_train, y_train = get_X_and_y(train_df)\n",
    "X_test, y_test = get_X_and_y(test_df)\n",
    "X_val, y_val = get_X_and_y(val_df)"
   ]
  },
  {
   "cell_type": "code",
   "execution_count": 192,
   "metadata": {},
   "outputs": [],
   "source": [
    "#Mini Model\n",
    "\n",
    "X_train = X_train\n",
    "y_train = y_train\n",
    "X_val = X_val\n",
    "y_val = y_val"
   ]
  },
  {
   "cell_type": "code",
   "execution_count": 193,
   "metadata": {},
   "outputs": [
    {
     "data": {
      "text/plain": [
       "(514724, 514724, 11237, 11237, 8880, 8880)"
      ]
     },
     "execution_count": 193,
     "metadata": {},
     "output_type": "execute_result"
    }
   ],
   "source": [
    "len(X_train), len(y_train), len(X_test), len(y_test), len(X_val), len(y_val)"
   ]
  },
  {
   "cell_type": "code",
   "execution_count": 194,
   "metadata": {},
   "outputs": [
    {
     "data": {
      "text/plain": [
       "(['ajjkallh', 'kookerii', 'dhamniyan', 'khudgarzi', 'aglera'],\n",
       " ['ਅੱਜਕੱਲ੍ਹ', 'ਕੁੱਕਰੀ', 'ਧਮਨੀਆਂ', 'ਖ਼ੁਦਗ਼ਰਜ਼ੀ', 'ਅਗਲੇਰਾ'])"
      ]
     },
     "execution_count": 194,
     "metadata": {},
     "output_type": "execute_result"
    }
   ],
   "source": [
    "X_train[:5], y_train[:5]"
   ]
  },
  {
   "cell_type": "markdown",
   "metadata": {},
   "source": [
    "##### Splitting the words into chars"
   ]
  },
  {
   "cell_type": "code",
   "execution_count": 195,
   "metadata": {},
   "outputs": [],
   "source": [
    "def words_to_chars(words:list[str]):\n",
    "    \n",
    "    return [\" \".join(list(word)) for word in words]\n"
   ]
  },
  {
   "cell_type": "code",
   "execution_count": 196,
   "metadata": {},
   "outputs": [],
   "source": [
    "X_train = words_to_chars(X_train)\n",
    "y_train = words_to_chars(y_train)\n",
    "X_test = words_to_chars(X_test)\n",
    "y_test = words_to_chars(y_test)\n",
    "X_val = words_to_chars(X_val)\n",
    "y_val = words_to_chars(y_val)"
   ]
  },
  {
   "cell_type": "code",
   "execution_count": 197,
   "metadata": {},
   "outputs": [
    {
     "data": {
      "text/plain": [
       "(['ਪ ਲ ਟ ਾ ਉ ਂ ਦ ਿ ਆ ਂ',\n",
       "  'ਮ ੈ ਸ ਲ ੀ ਲ ੀ ਆ',\n",
       "  'ਪ ੍ ਰ ਮ ੋ ਸ ਨ ਾ ਂ',\n",
       "  'ਪ ੱ ੁ ਜ ੇ',\n",
       "  'ਦ ਬ ੜ ੍ ਹ ੀ ਖ ਾ ਨ ਾ'],\n",
       " ['p a l t a u n d i y a a n',\n",
       "  'm e s s l e e l e e y a',\n",
       "  'p r m o s a n a a n',\n",
       "  'p u j j e',\n",
       "  'd a b a d e e h k h a n a'])"
      ]
     },
     "execution_count": 197,
     "metadata": {},
     "output_type": "execute_result"
    }
   ],
   "source": [
    "y_test[:5], X_test[:5]"
   ]
  },
  {
   "cell_type": "markdown",
   "metadata": {},
   "source": [
    "##### Preprocessing Punjabi chars for decoder and labels with start and end tokens"
   ]
  },
  {
   "cell_type": "code",
   "execution_count": 198,
   "metadata": {},
   "outputs": [],
   "source": [
    "def decoder_and_labels(y_text:list[str]):\n",
    "    decoder_inputs = [\"start \"+chars for chars in y_text]\n",
    "    labels = [chars+\" end\" for chars in y_text]\n",
    "    return (decoder_inputs, labels)\n"
   ]
  },
  {
   "cell_type": "code",
   "execution_count": 199,
   "metadata": {},
   "outputs": [],
   "source": [
    "y_train_decoder, y_train_labels = decoder_and_labels(y_train)\n",
    "y_test_decoder, y_test_labels = decoder_and_labels(y_test)\n",
    "y_val_decoder, y_val_labels = decoder_and_labels(y_val)\n"
   ]
  },
  {
   "cell_type": "code",
   "execution_count": 200,
   "metadata": {},
   "outputs": [
    {
     "data": {
      "text/plain": [
       "(['start ਮ ਿ ਸ ਼ ੇ ਲ ੇ',\n",
       "  'start ਵ ੀ ਨ ਸ',\n",
       "  'start ਫ ਼ ਰ ੀ ਦ',\n",
       "  'start ਯ ਾ ਮ ਿ ਨ ੀ',\n",
       "  'start ਜ ੇ ਮ ਸ'],\n",
       " ['ਮ ਿ ਸ ਼ ੇ ਲ ੇ end',\n",
       "  'ਵ ੀ ਨ ਸ end',\n",
       "  'ਫ ਼ ਰ ੀ ਦ end',\n",
       "  'ਯ ਾ ਮ ਿ ਨ ੀ end',\n",
       "  'ਜ ੇ ਮ ਸ end'])"
      ]
     },
     "execution_count": 200,
     "metadata": {},
     "output_type": "execute_result"
    }
   ],
   "source": [
    "y_val_decoder[:5], y_val_labels[:5]"
   ]
  },
  {
   "cell_type": "markdown",
   "metadata": {},
   "source": [
    "##### Text Vectorization"
   ]
  },
  {
   "cell_type": "code",
   "execution_count": 201,
   "metadata": {},
   "outputs": [
    {
     "data": {
      "text/plain": [
       "(['a j j k a l l h', 'k o o k e r i i'],\n",
       " ['ਅ ੱ ਜ ਕ ੱ ਲ ੍ ਹ', 'ਕ ੁ ੱ ਕ ਰ ੀ'],\n",
       " ['start ਅ ੱ ਜ ਕ ੱ ਲ ੍ ਹ', 'start ਕ ੁ ੱ ਕ ਰ ੀ'],\n",
       " ['ਅ ੱ ਜ ਕ ੱ ਲ ੍ ਹ end', 'ਕ ੁ ੱ ਕ ਰ ੀ end'])"
      ]
     },
     "execution_count": 201,
     "metadata": {},
     "output_type": "execute_result"
    }
   ],
   "source": [
    "# Visualizing the data\n",
    "X_train[:2], y_train[:2], y_train_decoder[:2], y_train_labels[:2]"
   ]
  },
  {
   "cell_type": "code",
   "execution_count": 202,
   "metadata": {},
   "outputs": [],
   "source": [
    "from keras.layers import TextVectorization"
   ]
  },
  {
   "cell_type": "code",
   "execution_count": 203,
   "metadata": {},
   "outputs": [],
   "source": [
    "MAX_TOKENS = 100\n",
    "SEQ_LENGTH = 50\n",
    "\n",
    "english_vectorizer = TextVectorization(max_tokens=MAX_TOKENS, output_sequence_length=SEQ_LENGTH, pad_to_max_tokens=True)\n",
    "\n",
    "punjabi_vectorizer = TextVectorization(max_tokens=MAX_TOKENS, output_sequence_length=SEQ_LENGTH, pad_to_max_tokens=True)\n",
    "\n",
    "english_vectorizer.adapt(X_train)\n",
    "punjabi_vectorizer.adapt([f\"start {s} end\" for s in y_train])\n"
   ]
  },
  {
   "cell_type": "code",
   "execution_count": 204,
   "metadata": {},
   "outputs": [
    {
     "data": {
      "text/plain": [
       "['', '[UNK]', 'start', 'end', 'ਾ']"
      ]
     },
     "execution_count": 204,
     "metadata": {},
     "output_type": "execute_result"
    }
   ],
   "source": [
    "punjabi_vectorizer.get_vocabulary()[:5]"
   ]
  },
  {
   "cell_type": "code",
   "execution_count": 205,
   "metadata": {},
   "outputs": [],
   "source": [
    "punjabi_vocab_len = len(punjabi_vectorizer.get_vocabulary())\n",
    "eng_vocab_len = len(english_vectorizer.get_vocabulary())"
   ]
  },
  {
   "cell_type": "code",
   "execution_count": 206,
   "metadata": {},
   "outputs": [
    {
     "data": {
      "text/plain": [
       "<tf.Tensor: shape=(1, 50), dtype=int64, numpy=\n",
       "array([[ 2, 33, 31, 20, 10, 31,  9, 32, 30,  0,  0,  0,  0,  0,  0,  0,\n",
       "         0,  0,  0,  0,  0,  0,  0,  0,  0,  0,  0,  0,  0,  0,  0,  0,\n",
       "         0,  0,  0,  0,  0,  0,  0,  0,  0,  0,  0,  0,  0,  0,  0,  0,\n",
       "         0,  0]])>"
      ]
     },
     "execution_count": 206,
     "metadata": {},
     "output_type": "execute_result"
    }
   ],
   "source": [
    "punjabi_vectorizer(y_train_decoder[:1])"
   ]
  },
  {
   "cell_type": "code",
   "execution_count": 207,
   "metadata": {},
   "outputs": [
    {
     "data": {
      "text/plain": [
       "<tf.Tensor: shape=(1, 50), dtype=int64, numpy=\n",
       "array([[33, 31, 20, 10, 31,  9, 32, 30,  3,  0,  0,  0,  0,  0,  0,  0,\n",
       "         0,  0,  0,  0,  0,  0,  0,  0,  0,  0,  0,  0,  0,  0,  0,  0,\n",
       "         0,  0,  0,  0,  0,  0,  0,  0,  0,  0,  0,  0,  0,  0,  0,  0,\n",
       "         0,  0]])>"
      ]
     },
     "execution_count": 207,
     "metadata": {},
     "output_type": "execute_result"
    }
   ],
   "source": [
    "punjabi_vectorizer(y_train_labels[:1])"
   ]
  },
  {
   "cell_type": "code",
   "execution_count": 208,
   "metadata": {},
   "outputs": [
    {
     "data": {
      "text/plain": [
       "(61, 28)"
      ]
     },
     "execution_count": 208,
     "metadata": {},
     "output_type": "execute_result"
    }
   ],
   "source": [
    "punjabi_vocab_len, eng_vocab_len"
   ]
  },
  {
   "cell_type": "markdown",
   "metadata": {},
   "source": [
    "## Creating The model 🤓"
   ]
  },
  {
   "cell_type": "code",
   "execution_count": 209,
   "metadata": {},
   "outputs": [],
   "source": [
    "\n",
    "#encoder\n",
    "encoder_inputs = keras.layers.Input(shape=(50), dtype=tf.int32)\n",
    "#eng_vector = english_vectorizer(encoder_inputs)\n",
    "eng_embs = keras.layers.Embedding(input_dim=eng_vocab_len, output_dim=512, input_length=SEQ_LENGTH)(encoder_inputs)\n",
    "eng_lstm = keras.layers.Bidirectional(keras.layers.LSTM(256, return_sequences=True))(eng_embs)\n",
    "encoder_outputs, state_h, state_c = keras.layers.LSTM(512, return_sequences=True, return_state=True)(eng_lstm)\n"
   ]
  },
  {
   "cell_type": "code",
   "execution_count": 210,
   "metadata": {},
   "outputs": [],
   "source": [
    "#decoder\n",
    "decoder_inputs = keras.layers.Input(shape=(50), dtype=tf.int32)\n",
    "#punjabi_vector = punjabi_vectorizer(decoder_inputs)\n",
    "punjabi_embs = keras.layers.Embedding(input_dim=punjabi_vocab_len, output_dim=512, input_length=SEQ_LENGTH)(decoder_inputs)\n",
    "punjabi_lstm = keras.layers.LSTM(512, return_sequences=True)(punjabi_embs, initial_state=[state_h, state_c])\n",
    "decoder_lstm = keras.layers.LSTM(512, return_sequences=True)(punjabi_lstm)\n",
    "#context_vector = keras.layers.Attention()([decoder_lstm,encoder_outputs])\n",
    "#context_concat = keras.layers.Concatenate()([decoder_lstm, context_vector])\n",
    "dense_layer = keras.layers.Dense(64, activation='relu')(decoder_lstm)\n",
    "decoder_outputs = keras.layers.Dense(punjabi_vocab_len, activation='softmax')(dense_layer)\n"
   ]
  },
  {
   "cell_type": "code",
   "execution_count": 211,
   "metadata": {},
   "outputs": [],
   "source": [
    "model = keras.Model([encoder_inputs, decoder_inputs], decoder_outputs)"
   ]
  },
  {
   "cell_type": "code",
   "execution_count": 212,
   "metadata": {},
   "outputs": [],
   "source": [
    "model.compile(loss='sparse_categorical_crossentropy', optimizer='adam', metrics=['accuracy'])"
   ]
  },
  {
   "cell_type": "code",
   "execution_count": 213,
   "metadata": {},
   "outputs": [
    {
     "name": "stdout",
     "output_type": "stream",
     "text": [
      "Model: \"model_4\"\n",
      "__________________________________________________________________________________________________\n",
      " Layer (type)                Output Shape                 Param #   Connected to                  \n",
      "==================================================================================================\n",
      " input_10 (InputLayer)       [(None, 50)]                 0         []                            \n",
      "                                                                                                  \n",
      " embedding_9 (Embedding)     (None, 50, 512)              14336     ['input_10[0][0]']            \n",
      "                                                                                                  \n",
      " input_11 (InputLayer)       [(None, 50)]                 0         []                            \n",
      "                                                                                                  \n",
      " bidirectional_4 (Bidirecti  (None, 50, 512)              1574912   ['embedding_9[0][0]']         \n",
      " onal)                                                                                            \n",
      "                                                                                                  \n",
      " embedding_10 (Embedding)    (None, 50, 512)              31232     ['input_11[0][0]']            \n",
      "                                                                                                  \n",
      " lstm_19 (LSTM)              [(None, 50, 512),            2099200   ['bidirectional_4[0][0]']     \n",
      "                              (None, 512),                                                        \n",
      "                              (None, 512)]                                                        \n",
      "                                                                                                  \n",
      " lstm_20 (LSTM)              (None, 50, 512)              2099200   ['embedding_10[0][0]',        \n",
      "                                                                     'lstm_19[0][1]',             \n",
      "                                                                     'lstm_19[0][2]']             \n",
      "                                                                                                  \n",
      " lstm_21 (LSTM)              (None, 50, 512)              2099200   ['lstm_20[0][0]']             \n",
      "                                                                                                  \n",
      " dense_10 (Dense)            (None, 50, 64)               32832     ['lstm_21[0][0]']             \n",
      "                                                                                                  \n",
      " dense_11 (Dense)            (None, 50, 61)               3965      ['dense_10[0][0]']            \n",
      "                                                                                                  \n",
      "==================================================================================================\n",
      "Total params: 7954877 (30.35 MB)\n",
      "Trainable params: 7954877 (30.35 MB)\n",
      "Non-trainable params: 0 (0.00 Byte)\n",
      "__________________________________________________________________________________________________\n"
     ]
    }
   ],
   "source": [
    "model.summary()"
   ]
  },
  {
   "cell_type": "code",
   "execution_count": 214,
   "metadata": {},
   "outputs": [],
   "source": [
    "y_train_labels = tf.cast(tf.constant(punjabi_vectorizer(y_train_labels), dtype=tf.int64), dtype=tf.int32)\n",
    "y_val_labels = tf.cast(tf.constant(punjabi_vectorizer(y_val_labels), dtype=tf.int64), dtype=tf.int32)\n",
    "\n",
    "y_train_decoder = tf.cast(tf.constant(punjabi_vectorizer(y_train_decoder),dtype=tf.int64), dtype=tf.int32)\n",
    "y_val_decoder = tf.cast(tf.constant(punjabi_vectorizer(y_val_decoder), dtype=tf.int64), dtype=tf.int32)\n",
    "\n",
    "X_train = tf.cast(tf.constant(english_vectorizer(X_train), dtype=tf.int64), dtype=tf.int32)\n",
    "X_val = tf.cast(tf.constant(english_vectorizer(X_val), dtype=tf.int64), dtype=tf.int32)\n",
    "\n",
    "\n"
   ]
  },
  {
   "cell_type": "code",
   "execution_count": 166,
   "metadata": {},
   "outputs": [
    {
     "data": {
      "text/plain": [
       "<tf.Tensor: shape=(2, 50), dtype=int16, numpy=\n",
       "array([[33, 31, 20, 10, 31,  9, 32, 30,  3,  0,  0,  0,  0,  0,  0,  0,\n",
       "         0,  0,  0,  0,  0,  0,  0,  0,  0,  0,  0,  0,  0,  0,  0,  0,\n",
       "         0,  0,  0,  0,  0,  0,  0,  0,  0,  0,  0,  0,  0,  0,  0,  0,\n",
       "         0,  0],\n",
       "       [10, 23, 31, 10,  5,  7,  3,  0,  0,  0,  0,  0,  0,  0,  0,  0,\n",
       "         0,  0,  0,  0,  0,  0,  0,  0,  0,  0,  0,  0,  0,  0,  0,  0,\n",
       "         0,  0,  0,  0,  0,  0,  0,  0,  0,  0,  0,  0,  0,  0,  0,  0,\n",
       "         0,  0]], dtype=int16)>"
      ]
     },
     "execution_count": 166,
     "metadata": {},
     "output_type": "execute_result"
    }
   ],
   "source": [
    "y_train_labels[:2]"
   ]
  },
  {
   "cell_type": "code",
   "execution_count": null,
   "metadata": {},
   "outputs": [],
   "source": [
    "model.fit([X_train, y_train_decoder], y_train_labels, validation_data=([X_val, y_val_decoder], y_val_labels), epochs=1000, callbacks=[keras.callbacks.EarlyStopping(restore_best_weights=True, patience=5), keras.callbacks.ModelCheckpoint(save_best_only=True, verbose=0, filepath=\"model2/model\")])"
   ]
  },
  {
   "cell_type": "code",
   "execution_count": 217,
   "metadata": {},
   "outputs": [
    {
     "name": "stderr",
     "output_type": "stream",
     "text": [
      "/Library/Frameworks/Python.framework/Versions/3.11/lib/python3.11/site-packages/keras/src/engine/training.py:3103: UserWarning: You are saving your model as an HDF5 file via `model.save()`. This file format is considered legacy. We recommend using instead the native Keras format, e.g. `model.save('my_model.keras')`.\n",
      "  saving_api.save_model(\n"
     ]
    }
   ],
   "source": [
    "import tensorflowjs as tfjs\n",
    "\n",
    "tfjs.converters.save_keras_model(model, artifacts_dir=\"TFJS\")"
   ]
  },
  {
   "cell_type": "code",
   "execution_count": null,
   "metadata": {},
   "outputs": [],
   "source": [
    "model = keras.models.load_model('model2/model')"
   ]
  },
  {
   "cell_type": "code",
   "execution_count": 169,
   "metadata": {},
   "outputs": [],
   "source": [
    "y_test_labels = tf.constant(punjabi_vectorizer(y_test_labels), dtype=tf.int64)\n",
    "\n",
    "y_test_decoder = tf.constant(y_test_decoder, dtype=tf.string)\n",
    "\n",
    "X_test = tf.constant(X_test, dtype=tf.string)\n"
   ]
  },
  {
   "cell_type": "code",
   "execution_count": 218,
   "metadata": {},
   "outputs": [],
   "source": [
    "import numpy as np\n",
    "def transliterate(text:str):\n",
    "\n",
    "    decoder_input = \"start\"\n",
    "    text = \" \".join(list(text))\n",
    "\n",
    "    text = english_vectorizer(text)\n",
    "    text = tf.cast(text, dtype=tf.int16)\n",
    "    text = tf.expand_dims(text, axis=0)\n",
    "    \n",
    "    \n",
    "\n",
    "    for x in range(30):\n",
    "\n",
    "        decoder_tokens = punjabi_vectorizer(decoder_input)\n",
    "        decoder_tokens = tf.cast(decoder_tokens, dtype=tf.int16)\n",
    "        decoder_tokens = tf.expand_dims(decoder_tokens, axis=0)\n",
    "                    \n",
    "        prediction = model.predict([text, decoder_tokens], verbose=0)\n",
    "        pred_text = punjabi_vectorizer.get_vocabulary()[ np.argmax(prediction[0, x, :])]\n",
    "        if(pred_text=='end'):\n",
    "            break\n",
    "        decoder_input= decoder_input+\" \"+pred_text\n",
    "        \n",
    "    \n",
    "    \n",
    "    return \"\".join(list(decoder_input)).replace(\" \",\"\").replace('start',\"\")\n",
    "\n",
    "\n",
    "        \n"
   ]
  },
  {
   "cell_type": "code",
   "execution_count": 220,
   "metadata": {},
   "outputs": [],
   "source": [
    "def transliterate_text(text:str):\n",
    "    texts = text.split(\" \")\n",
    "    return \" \".join([transliterate(t) for t in texts])\n"
   ]
  },
  {
   "cell_type": "code",
   "execution_count": 221,
   "metadata": {},
   "outputs": [
    {
     "data": {
      "text/plain": [
       "'ਮੇਰਾ ਨਾਮ ਸਰਬਜੀਤ ਹੈ ਏਟੀਈ ਮੈ ਬਾਹੁਤ ਚੰਗਾ ਮੁੰਡਾ ਹਾ'"
      ]
     },
     "execution_count": 221,
     "metadata": {},
     "output_type": "execute_result"
    }
   ],
   "source": [
    "transliterate_text(\"mera naam sarbjeet hai ate mai bahut changa munda ha\")"
   ]
  },
  {
   "cell_type": "code",
   "execution_count": 176,
   "metadata": {},
   "outputs": [
    {
     "data": {
      "text/plain": [
       "'ਸਰਬ'"
      ]
     },
     "execution_count": 176,
     "metadata": {},
     "output_type": "execute_result"
    }
   ],
   "source": [
    "transliterate(\"sarb\")"
   ]
  },
  {
   "cell_type": "code",
   "execution_count": 222,
   "metadata": {},
   "outputs": [],
   "source": [
    "def top_2_words(text:str):\n",
    "    decoder_input = \"start\"\n",
    "    text = \" \".join(list(text))\n",
    "\n",
    "    text = english_vectorizer(text)\n",
    "    text = tf.cast(text, dtype=tf.int16)\n",
    "    text = tf.expand_dims(text, axis=0)\n",
    "    \n",
    "\n",
    "    letters = []\n",
    "        \n",
    "\n",
    "    for x in range(30):\n",
    "        decoder_tokens = punjabi_vectorizer(decoder_input)\n",
    "        decoder_tokens = tf.cast(decoder_tokens, dtype=tf.int16)\n",
    "        decoder_tokens = tf.expand_dims(decoder_tokens, axis=0)\n",
    "                    \n",
    "        prediction = model.predict([text, decoder_tokens], verbose=0)\n",
    "        top_indexes = np.argsort(prediction[0, x, :])[-2:]\n",
    "        top_letters = [punjabi_vectorizer.get_vocabulary()[i] for i in top_indexes]\n",
    "        letters.append(list(top_letters))\n",
    "        pred_text = top_letters[-1]\n",
    "        if(pred_text=='end'):\n",
    "            break\n",
    "        decoder_input= decoder_input+\" \"+pred_text\n",
    "        \n",
    "    \n",
    "    return(\"\".join(list(decoder_input)).replace(\" \",\"\").replace('start',\"\"), letters)\n",
    "     \n",
    "\n",
    "    \n",
    "    "
   ]
  },
  {
   "cell_type": "code",
   "execution_count": 228,
   "metadata": {},
   "outputs": [
    {
     "data": {
      "text/plain": [
       "('ਭੈਣ', [['ਘ', 'ਭ'], ['ਾ', 'ੈ'], ['ਨ', 'ਣ'], ['ਾ', 'end']])"
      ]
     },
     "execution_count": 228,
     "metadata": {},
     "output_type": "execute_result"
    }
   ],
   "source": [
    "top_2_words(\"bhainn\")"
   ]
  },
  {
   "cell_type": "code",
   "execution_count": 227,
   "metadata": {},
   "outputs": [
    {
     "name": "stdout",
     "output_type": "stream",
     "text": [
      "['ਭਾਣ', 'ਭੈਨਾ', 'ਭੈਨ', 'ਭੈਣਾ', 'ਭੈਣ']\n",
      "Number of possible words: 16\n"
     ]
    }
   ],
   "source": [
    "from itertools import product\n",
    "\n",
    "def generate_word_combinations(sublists):\n",
    "    # Generate all possible combinations of words from the sublists\n",
    "    combinations = product(*sublists)\n",
    "    \n",
    "    # Join each combination of letters into words\n",
    "    words = [''.join(combination) for combination in combinations]\n",
    "    \n",
    "    return words\n",
    "\n",
    "# Example usage:\n",
    "_,sublists = top_2_words(\"bhainn\")\n",
    "possible_words = generate_word_combinations(sublists)\n",
    "print([x.replace(\"end\",\"\") for x in possible_words[-5:]])\n",
    "print(\"Number of possible words:\", len(possible_words))\n"
   ]
  },
  {
   "cell_type": "code",
   "execution_count": null,
   "metadata": {},
   "outputs": [
    {
     "data": {
      "text/plain": [
       "['',\n",
       " '[UNK]',\n",
       " 'start',\n",
       " 'end',\n",
       " 'ਾ',\n",
       " 'ਰ',\n",
       " 'ਸ',\n",
       " 'ੀ',\n",
       " 'ਿ',\n",
       " 'ਲ',\n",
       " 'ਕ',\n",
       " 'ਨ',\n",
       " 'ੋ',\n",
       " 'ਮ',\n",
       " 'ੇ',\n",
       " 'ਟ',\n",
       " 'ਪ',\n",
       " 'ਵ',\n",
       " 'ਂ',\n",
       " 'ਗ',\n",
       " 'ਜ',\n",
       " 'ਬ',\n",
       " 'ਤ',\n",
       " 'ੁ',\n",
       " 'ਦ',\n",
       " 'ੈ',\n",
       " 'ੰ',\n",
       " '਼',\n",
       " 'ਆ',\n",
       " 'ਡ',\n",
       " 'ਹ',\n",
       " 'ੱ',\n",
       " '੍',\n",
       " 'ਅ',\n",
       " 'ਫ',\n",
       " 'ੂ',\n",
       " 'ਚ',\n",
       " 'ਈ',\n",
       " 'ਇ',\n",
       " 'ਖ',\n",
       " 'ਐ',\n",
       " 'ਣ',\n",
       " 'ੌ',\n",
       " 'ਉ',\n",
       " 'ੜ',\n",
       " 'ਧ',\n",
       " 'ਥ',\n",
       " 'ਭ',\n",
       " 'ਓ',\n",
       " 'ਯ',\n",
       " 'ਏ',\n",
       " 'ਘ',\n",
       " 'ਛ',\n",
       " 'ਊ',\n",
       " 'ਝ',\n",
       " 'ਠ',\n",
       " 'ਢ',\n",
       " 'ਔ',\n",
       " 'ਞ',\n",
       " 'ਙ',\n",
       " 'ੲ']"
      ]
     },
     "execution_count": 133,
     "metadata": {},
     "output_type": "execute_result"
    }
   ],
   "source": [
    "punjabi_vectorizer.get_vocabulary()"
   ]
  },
  {
   "cell_type": "code",
   "execution_count": null,
   "metadata": {},
   "outputs": [],
   "source": []
  }
 ],
 "metadata": {
  "kernelspec": {
   "display_name": "Python 3",
   "language": "python",
   "name": "python3"
  },
  "language_info": {
   "codemirror_mode": {
    "name": "ipython",
    "version": 3
   },
   "file_extension": ".py",
   "mimetype": "text/x-python",
   "name": "python",
   "nbconvert_exporter": "python",
   "pygments_lexer": "ipython3",
   "version": "3.undefined.undefined"
  }
 },
 "nbformat": 4,
 "nbformat_minor": 2
}
